{
 "metadata": {
  "kernelspec": {
   "display_name": "Streamlit Notebook",
   "name": "streamlit"
  },
  "lastEditStatus": {
   "notebookId": "7qqrkuk7775wuecgolrm",
   "authorId": "47121975279",
   "authorName": "SUJOSHI",
   "authorEmail": "sukanya.joshi@snowflake.com",
   "sessionId": "f2379568-f3e0-457c-90a5-feea49749881",
   "lastEditTime": 1760549163847
  }
 },
 "nbformat_minor": 5,
 "nbformat": 4,
 "cells": [
  {
   "cell_type": "code",
   "id": "a5c8adbc-236b-4a77-aa76-0469ef0195b5",
   "metadata": {
    "language": "python",
    "name": "cell3"
   },
   "outputs": [],
   "source": "import pandas as pd\nfrom sklearn.pipeline import Pipeline\nfrom sklearn.compose import ColumnTransformer\nfrom sklearn.preprocessing import OneHotEncoder, OrdinalEncoder, LabelEncoder\nfrom sklearn.ensemble import RandomForestClassifier\nfrom sklearn.model_selection import train_test_split, RandomizedSearchCV\nfrom sklearn.metrics import classification_report, roc_auc_score\nfrom snowflake.snowpark.context import get_active_session\nfrom snowflake.ml.registry import Registry\n\n# 1. Get Snowflake session and load training data\nsession = get_active_session()\ndf_raw = session.table(\"CUSTOMER_CHURN_DATASET\").limit(5000).to_pandas().dropna()\ndf = df_raw.copy()  # Preserve raw for post-inference join\n\n# 2. Encode 'GENDER' using LabelEncoder\nle_gender = LabelEncoder()\ndf['GENDER'] = le_gender.fit_transform(df['GENDER'])\n\n# 3. Define features and target\ntarget_col = 'CHURN'\nid_col = 'CUSTOMERID'\nX = df.drop(columns=[target_col, id_col])\ny = df[target_col]\n\n# 4. Train-test split\nX_train, X_test, y_train, y_test = train_test_split(\n    X, y, test_size=0.2, stratify=y, random_state=42\n)\n\n# 5. Define feature types\ncategorical_ohe = ['SUBSCRIPTION_TYPE']\ncategorical_ord = ['CONTRACT_LENGTH']\nnumeric_features = [col for col in X.columns if col not in categorical_ohe + categorical_ord + ['GENDER']]\n\n# 6. Preprocessing pipeline\npreprocessor = ColumnTransformer([\n    ('ohe', OneHotEncoder(handle_unknown='ignore', sparse_output=False), categorical_ohe),\n    ('ord', OrdinalEncoder(handle_unknown='use_encoded_value', unknown_value=-1), categorical_ord),\n    ('gender', 'passthrough', ['GENDER']),\n    ('numeric', 'passthrough', numeric_features)\n])\n\n# 7. Model pipeline\npipeline = Pipeline([\n    ('preprocessor', preprocessor),\n    ('classifier', RandomForestClassifier(\n        class_weight='balanced',\n        random_state=42,\n        n_jobs=-1\n    ))\n])\n\n# 8. Hyperparameter tuning\nparam_grid = {\n    'classifier__n_estimators': [100, 200],\n    'classifier__max_depth': [10, 20, None],\n    'classifier__min_samples_split': [2, 5],\n    'classifier__min_samples_leaf': [1, 2],\n    'classifier__max_features': ['sqrt', 'log2']\n}\n\nsearch = RandomizedSearchCV(\n    pipeline,\n    param_distributions=param_grid,\n    n_iter=10,\n    cv=5,\n    scoring='roc_auc',\n    n_jobs=-1,\n    random_state=42,\n    verbose=1\n)\n\n# 9. Train and select best model\nsearch.fit(X_train, y_train)\nbest_model = search.best_estimator_\n\n# 10. Register model to Snowflake Model Registry\nreg = Registry(session=session)\nmodel_name = \"RANDOM_FOREST\"\nmodel_version = \"V_8\"\n\nlogged_model = reg.log_model(\n    model_name=model_name,\n    version_name=model_version,\n    model=best_model,\n    sample_input_data=X_train.head(100),\n    target_platforms=[\"WAREHOUSE\"],\n    options={\"enable_explainability\": True}\n)\n\nreg.show_models()\n\n# ──────────────────────────────────────────────\n# 11. Run inference on X_test using model registry\n# ──────────────────────────────────────────────\n\nmodel_ver = reg.get_model(model_name).version(model_version)\n\n# Inference\npred_df = model_ver.run(X_test, function_name=\"predict\").rename(\n    columns={\"output_feature_0\": \"CHURN_PREDICTION\"}\n)\nprob_df = model_ver.run(X_test, function_name=\"predict_proba\")[[\"output_feature_1\"]].rename(\n    columns={\"output_feature_1\": \"CHURN_PREDICTION_PROB\"}\n)\nexplain_df = model_ver.run(X_test, function_name=\"explain\")\n\n# ──────────────────────────────────────────────\n# 12. Combine original raw test data with predictions\n# ──────────────────────────────────────────────\n\n# Get full original rows corresponding to test set\nraw_test_df = df_raw.loc[X_test.index].reset_index(drop=True)  # Includes CUSTOMERID and raw GENDER\n\n# Combine everything into final_df\nfinal_df = pd.concat([\n    raw_test_df,\n    pred_df.reset_index(drop=True),\n    prob_df.reset_index(drop=True),\n    explain_df.reset_index(drop=True)\n], axis=1)\n\n# Add actual label\nfinal_df[\"CHURN\"] = y_test.reset_index(drop=True)\n\n# Evaluation\nprint(f\"\\n✅ ROC AUC on test data: {roc_auc_score(final_df['CHURN'], final_df['CHURN_PREDICTION_PROB']):.4f}\")\nprint(\"✅ Model Classification Report:\\n\", classification_report(final_df['CHURN'], final_df['CHURN_PREDICTION']))\n",
   "execution_count": null
  },
  {
   "cell_type": "code",
   "id": "ef6928b9-152c-43d1-94d3-46519ad4a3cb",
   "metadata": {
    "language": "python",
    "name": "cell1",
    "codeCollapsed": false
   },
   "outputs": [],
   "source": "#Save final_df from above into a snowflake table so we can plug it into Snowflake Intelligence by creating a semantic view on top of it\nfinal_df_snowpark = session.create_dataframe(final_df)\nfinal_df_snowpark.write.mode(\"overwrite\").save_as_table(\"CHURN_DATA_EXPLANATIONS\")",
   "execution_count": null
  }
 ]
}